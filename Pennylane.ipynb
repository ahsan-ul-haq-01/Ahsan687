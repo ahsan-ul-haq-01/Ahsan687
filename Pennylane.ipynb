{
  "nbformat": 4,
  "nbformat_minor": 0,
  "metadata": {
    "colab": {
      "private_outputs": true,
      "provenance": [],
      "authorship_tag": "ABX9TyNrxg3RS/ZVMokFWqAREhtB",
      "include_colab_link": true
    },
    "kernelspec": {
      "name": "python3",
      "display_name": "Python 3"
    },
    "language_info": {
      "name": "python"
    }
  },
  "cells": [
    {
      "cell_type": "markdown",
      "metadata": {
        "id": "view-in-github",
        "colab_type": "text"
      },
      "source": [
        "<a href=\"https://colab.research.google.com/github/ahsan-ul-haq-01/Ahsan687/blob/main/Pennylane.ipynb\" target=\"_parent\"><img src=\"https://colab.research.google.com/assets/colab-badge.svg\" alt=\"Open In Colab\"/></a>"
      ]
    },
    {
      "cell_type": "code",
      "execution_count": null,
      "metadata": {
        "collapsed": true,
        "id": "JckGn4x_sV7B"
      },
      "outputs": [],
      "source": [
        "# prompt: import pennylane,numpy\n",
        "\n",
        "!pip install pennylane"
      ]
    },
    {
      "cell_type": "code",
      "source": [
        "import pennylane as qml\n",
        "from pennylane import numpy as np"
      ],
      "metadata": {
        "id": "rTlZstaTuDFJ"
      },
      "execution_count": null,
      "outputs": []
    },
    {
      "cell_type": "code",
      "source": [
        "qml.about()\n"
      ],
      "metadata": {
        "collapsed": true,
        "id": "Ss3qRPGQusZb"
      },
      "execution_count": null,
      "outputs": []
    },
    {
      "cell_type": "code",
      "source": [
        "#define a backend\n",
        "device_1 = qml.device('default.qubit',wires=2)"
      ],
      "metadata": {
        "id": "uwihVweMu08q"
      },
      "execution_count": null,
      "outputs": []
    },
    {
      "cell_type": "code",
      "source": [
        "#create bell state\n",
        "@qml.qnode(device)\n",
        "def circuit():\n",
        "  qml.Hadamard(wires=[0])\n",
        "  qml.CNOT(wires=[0,1])\n",
        "  return qml.probs(wires=[0,1])"
      ],
      "metadata": {
        "id": "H094l0jZwgs5"
      },
      "execution_count": null,
      "outputs": []
    },
    {
      "cell_type": "code",
      "source": [
        "#draw\n",
        "qml.draw_mpl(circuit,style=\"pennylane\")();"
      ],
      "metadata": {
        "id": "epiVZRGywgYi"
      },
      "execution_count": null,
      "outputs": []
    },
    {
      "cell_type": "code",
      "source": [
        "#putting time limit here we can see the time to do 1000 loops is1.27ms\n",
        "%%timeit\n",
        "#exicuite circuit ie probabilities\n",
        "circuit()\n"
      ],
      "metadata": {
        "id": "m8sedj4v07hE"
      },
      "execution_count": null,
      "outputs": []
    },
    {
      "cell_type": "code",
      "source": [
        "#changing backend like device in above and changing the default to lightning qubit\n",
        "device_2 = qml.device('lightning.qubit',wires=2)\n",
        "#create bell state\n",
        "@qml.qnode(device_2)\n",
        "def circuit():\n",
        "  qml.Hadamard(wires=[0])\n",
        "  qml.CNOT(wires=[0,1])\n",
        "  return qml.probs(wires=[0,1])"
      ],
      "metadata": {
        "id": "1jmJm_U807p5"
      },
      "execution_count": null,
      "outputs": []
    },
    {
      "cell_type": "code",
      "source": [
        "#executing here we can see the time to do 1000 loops is 889us\n",
        "%%timeit\n",
        "circuit()"
      ],
      "metadata": {
        "id": "AtT35gzO07yx"
      },
      "execution_count": null,
      "outputs": []
    },
    {
      "cell_type": "code",
      "source": [
        "#introducing shots\n",
        "device_3 = qml.device('lightning.qubit',wires=2, shots = 1000)\n",
        "#create bell state\n",
        "@qml.qnode(device_3)\n",
        "def circuit():\n",
        "  qml.Hadamard(wires=[0])\n",
        "  qml.CNOT(wires=[0,1])\n",
        "  return qml.probs()"
      ],
      "metadata": {
        "id": "IzilLmDI1zJO"
      },
      "execution_count": null,
      "outputs": []
    },
    {
      "cell_type": "code",
      "source": [
        "circuit()"
      ],
      "metadata": {
        "id": "H_UsMAVe3S5N"
      },
      "execution_count": null,
      "outputs": []
    },
    {
      "cell_type": "code",
      "source": [],
      "metadata": {
        "id": "eGN0wlib3h1O"
      },
      "execution_count": null,
      "outputs": []
    }
  ]
}